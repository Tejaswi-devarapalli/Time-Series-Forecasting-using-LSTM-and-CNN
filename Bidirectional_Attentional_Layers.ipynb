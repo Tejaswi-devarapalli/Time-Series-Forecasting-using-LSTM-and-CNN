{
  "cells": [
    {
      "cell_type": "markdown",
      "metadata": {
        "id": "i0IyNSnDaPBp"
      },
      "source": [
        "## **Functions**"
      ]
    },
    {
      "cell_type": "code",
      "execution_count": 79,
      "metadata": {
        "id": "tWYbQyfaCmLC"
      },
      "outputs": [],
      "source": [
        "import shutil\n",
        "from collections.abc import Sequence\n",
        "import matplotlib.pyplot as plt\n",
        "import numpy as np\n",
        "import pandas as pd\n",
        "import tensorflow as tf\n",
        "\n",
        "# Nicely formatted time string\n",
        "def hms_string(sec_elapsed):\n",
        "    h = int(sec_elapsed / (60 * 60))\n",
        "    m = int((sec_elapsed % (60 * 60)) / 60)\n",
        "    s = sec_elapsed % 60\n",
        "    return \"{}:{:>02}:{:>05.2f}\".format(h, m, s)\n",
        "\n",
        "# Plot utility\n",
        "def plot_graphs(history, string):\n",
        "  plt.plot(history.history[string])\n",
        "  plt.plot(history.history['val_'+string])\n",
        "  plt.xlabel(\"Epochs\")\n",
        "  plt.ylabel(string)\n",
        "  plt.legend([string, 'val_'+string])\n",
        "  plt.show()\n",
        "\n",
        "# Regression chart.\n",
        "def chart_regression(pred,y,sort=True):\n",
        "    t = pd.DataFrame({'pred' : pred, 'y' : y.flatten()})\n",
        "    if sort:\n",
        "        t.sort_values(by=['y'],inplace=True)\n",
        "    a = plt.plot(t['y'].tolist(),label='expected')\n",
        "    b = plt.plot(t['pred'].tolist(),label='prediction')\n",
        "    plt.ylim([-0.3,0.4])\n",
        "    plt.ylabel('output')\n",
        "    plt.legend()\n",
        "    plt.show()\n",
        "\n",
        "# def to_sequences(seq_size, data):\n",
        "#     x = []\n",
        "#     y = []\n",
        "#     for i in range(len(data)-seq_size-1):\n",
        "#         #print(i)\n",
        "#         window = data[i:(i+seq_size)]\n",
        "#         after_window = data[i+seq_size]\n",
        "#         window = [[x] for x in window]\n",
        "#         #print(\"{} - {}\".format(window,after_window))\n",
        "#         x.append(window)\n",
        "#         y.append(after_window)\n",
        "\n",
        "#     return np.array(x),np.array(y)\n",
        "\n",
        "def to_sequences(seq_size, data1, data2):\n",
        "    x = []\n",
        "    y = []\n",
        "\n",
        "    for i in range(len(data1)-seq_size):\n",
        "        #print(i)\n",
        "        window = data1[i:(i+seq_size)]\n",
        "        after_window = data2[i+seq_size]\n",
        "        window = [[x] for x in window]\n",
        "        #print(\"{} - {}\".format(window,after_window))\n",
        "        x.append(window)\n",
        "        y.append(after_window)\n",
        "\n",
        "    return np.array(x), np.array(y)"
      ]
    },
    {
      "cell_type": "markdown",
      "metadata": {
        "id": "TNUmvv9Yagzc"
      },
      "source": [
        "## **Loading Data**"
      ]
    },
    {
      "cell_type": "code",
      "execution_count": 81,
      "metadata": {
        "colab": {
          "base_uri": "https://localhost:8080/"
        },
        "id": "kfm-LeC2CmLF",
        "outputId": "a00fbac9-d7f2-41df-ac18-97c612c78607"
      },
      "outputs": [
        {
          "name": "stdout",
          "output_type": "stream",
          "text": [
            " Shape of X =  (201, 1, 84)\n",
            " Shape of y =  (201,)\n",
            " Meta data =  {'problemname': 'covid3month', 'timestamps': False, 'missing': False, 'univariate': True, 'equallength': True, 'classlabel': False, 'targetlabel': True, 'class_values': []}\n"
          ]
        }
      ],
      "source": [
        "import numpy as np\n",
        "import pandas as pd\n",
        "import os\n",
        "import io\n",
        "import requests\n",
        "import sklearn\n",
        "from aeon.datasets import load_regression\n",
        "X, y, meta_data = load_regression(\"Covid3Month\")\n",
        "print(\" Shape of X = \", X.shape)\n",
        "print(\" Shape of y = \", y.shape)\n",
        "print(\" Meta data = \", meta_data)"
      ]
    },
    {
      "cell_type": "markdown",
      "metadata": {
        "id": "gj9WlayYatno"
      },
      "source": [
        "## **Splitting Data to Train and Test**"
      ]
    },
    {
      "cell_type": "code",
      "execution_count": 82,
      "metadata": {
        "colab": {
          "base_uri": "https://localhost:8080/"
        },
        "id": "OCkMfd8YCmLG",
        "outputId": "828bf8d7-7098-4341-9070-491b77eb9155"
      },
      "outputs": [
        {
          "name": "stdout",
          "output_type": "stream",
          "text": [
            "Train shape =  (140, 1, 84)\n",
            "Test shape =  (61, 1, 84)\n",
            "Train shape =  (140,)\n",
            "Test shape =  (61,)\n"
          ]
        }
      ],
      "source": [
        "import numpy as np\n",
        "import pandas as pd\n",
        "import os\n",
        "import io\n",
        "import requests\n",
        "import sklearn\n",
        "from aeon.datasets import load_regression\n",
        "X_train, y_train = load_regression(\n",
        "    \"Covid3Month\", extract_path=\"./Temp/\", split=\"TRAIN\", return_metadata=False\n",
        ")\n",
        "X_test, y_test = load_regression(\n",
        "    \"Covid3Month\", extract_path=\"./Temp/\", split=\"test\", return_metadata=False\n",
        ")\n",
        "print(\"Train shape = \", X_train.shape)\n",
        "print(\"Test shape = \", X_test.shape)\n",
        "print(\"Train shape = \", y_train.shape)\n",
        "print(\"Test shape = \", y_test.shape)"
      ]
    },
    {
      "cell_type": "code",
      "execution_count": 83,
      "metadata": {
        "colab": {
          "base_uri": "https://localhost:8080/"
        },
        "id": "7-MMpNaGCmLG",
        "outputId": "488659a4-c316-48e1-f207-5b263edd7321"
      },
      "outputs": [
        {
          "data": {
            "text/plain": [
              "array([[[  0.,   0.,   0., ...,   0.,   0.,  12.]],\n",
              "\n",
              "       [[  0.,   0.,   0., ...,   9.,   0.,   0.]],\n",
              "\n",
              "       [[  0.,   0.,   0., ...,   0.,   0.,   0.]],\n",
              "\n",
              "       ...,\n",
              "\n",
              "       [[  0.,   0.,   0., ...,  65.,  39.,  36.]],\n",
              "\n",
              "       [[  0.,   0.,   0., ..., 128., 114.,  90.]],\n",
              "\n",
              "       [[  0.,   0.,   0., ...,   4.,   7.,   5.]]])"
            ]
          },
          "execution_count": 83,
          "metadata": {},
          "output_type": "execute_result"
        }
      ],
      "source": [
        "X_train"
      ]
    },
    {
      "cell_type": "code",
      "execution_count": 84,
      "metadata": {
        "colab": {
          "base_uri": "https://localhost:8080/"
        },
        "id": "wpY4EkiMCmLG",
        "outputId": "758058f4-b0e2-4852-fd44-e078830a8c51"
      },
      "outputs": [
        {
          "data": {
            "text/plain": [
              "array([0.        , 0.07758621, 0.        , 0.        , 0.15400309,\n",
              "       0.05555556, 0.00467563, 0.02857143, 0.00805611, 0.04794211,\n",
              "       0.07079646, 0.02558824, 0.00958466, 0.08068783, 0.1       ,\n",
              "       0.        , 0.01089701, 0.06451613, 0.04054054, 0.02373339,\n",
              "       0.02752294, 0.12765957, 0.06060606, 0.03533314, 0.00687285,\n",
              "       0.06413938, 0.04545455, 0.08181818, 0.02567976, 0.04218472,\n",
              "       0.02906287, 0.10318238, 0.07017544, 0.03276131, 0.11764706,\n",
              "       0.0396734 , 0.09703504, 0.05594406, 0.01045296, 0.        ,\n",
              "       0.03333333, 0.08394227, 0.00552975, 0.0164468 , 0.        ,\n",
              "       0.        , 0.04715102, 0.        , 0.02777778, 0.01413428,\n",
              "       0.11111111, 0.        , 0.04972376, 0.03846154, 0.06756757,\n",
              "       0.06254257, 0.01162791, 0.04454685, 0.        , 0.02122016,\n",
              "       0.17307692, 0.01754386, 0.04449649, 0.01569078, 0.        ,\n",
              "       0.        , 0.        , 0.        , 0.03159324, 0.01886792,\n",
              "       0.075     , 0.        , 0.00993491, 0.00958216, 0.11111111,\n",
              "       0.        , 0.02566831, 0.01598505, 0.        , 0.04444444,\n",
              "       0.03211009, 0.01960784, 0.03428196, 0.04671533, 0.17647059,\n",
              "       0.00979083, 0.        , 0.        , 0.02892562, 0.12759489,\n",
              "       0.02360125, 0.09485431, 0.05571429, 0.00763359, 0.00260078,\n",
              "       0.01425768, 0.01449275, 0.03675048, 0.00877193, 0.01515152,\n",
              "       0.        , 0.0030843 , 0.        , 0.05633803, 0.        ,\n",
              "       0.06855277, 0.0175709 , 0.00458115, 0.03221289, 0.08695652,\n",
              "       0.02122885, 0.04615385, 0.        , 0.10632368, 0.04537954,\n",
              "       0.03470724, 0.0124533 , 0.03205128, 0.05588885, 0.        ,\n",
              "       0.14285714, 0.06297229, 0.        , 0.0209599 , 0.        ,\n",
              "       0.01459854, 0.17021277, 0.        , 0.02096695, 0.1       ,\n",
              "       0.02961349, 0.04081633, 0.00735294, 0.        , 0.00492005,\n",
              "       0.00696864, 0.        , 0.02102102, 0.04003776, 0.00550964])"
            ]
          },
          "execution_count": 84,
          "metadata": {},
          "output_type": "execute_result"
        }
      ],
      "source": [
        "y_train"
      ]
    },
    {
      "cell_type": "code",
      "execution_count": 85,
      "metadata": {
        "colab": {
          "base_uri": "https://localhost:8080/"
        },
        "id": "OXwoPSDSCmLH",
        "outputId": "f069cfa9-9c8a-4dfd-93ac-4b60c3862dba"
      },
      "outputs": [
        {
          "data": {
            "text/plain": [
              "dtype('float64')"
            ]
          },
          "execution_count": 85,
          "metadata": {},
          "output_type": "execute_result"
        }
      ],
      "source": [
        "X_train.dtype"
      ]
    },
    {
      "cell_type": "markdown",
      "metadata": {
        "id": "3oGbWv7Oa9JQ"
      },
      "source": [
        "## **Normalization**"
      ]
    },
    {
      "cell_type": "code",
      "execution_count": 86,
      "metadata": {
        "id": "New3_EuGCmLH"
      },
      "outputs": [],
      "source": [
        "# convert to float32 for normalization\n",
        "X_train = X_train.astype('float32')\n",
        "X_test = X_test.astype('float32')\n",
        "\n"
      ]
    },
    {
      "cell_type": "code",
      "execution_count": 87,
      "metadata": {
        "id": "0tvnhKQxCmLH"
      },
      "outputs": [],
      "source": [
        "\n",
        "# normalize the data values to the range [0, 1]\n",
        "X_train /= 255\n",
        "X_test /= 255"
      ]
    },
    {
      "cell_type": "markdown",
      "metadata": {
        "id": "h08zYuAKbEh0"
      },
      "source": [
        "## **Sequencing Data**"
      ]
    },
    {
      "cell_type": "code",
      "execution_count": 88,
      "metadata": {
        "colab": {
          "base_uri": "https://localhost:8080/"
        },
        "id": "iSMuuELlCmLH",
        "outputId": "d057fe10-8afd-40cf-ee02-5c8a374fd703"
      },
      "outputs": [
        {
          "name": "stdout",
          "output_type": "stream",
          "text": [
            "Shape of x_train: (130, 10, 1, 1, 84)\n",
            "Shape of x_test: (51, 10, 1, 1, 84)\n",
            "Shape of y_train: (130,)\n",
            "Shape of y_test: (51,)\n",
            "Shape of x_train: (130, 10, 84)\n",
            "Shape of x_test: (51, 10, 84)\n",
            "Shape of y_train: (130,)\n",
            "Shape of y_test: (51,)\n"
          ]
        }
      ],
      "source": [
        "SEQUENCE_SIZE = 10\n",
        "\n",
        "X_train, y_train= to_sequences(SEQUENCE_SIZE, X_train, y_train)\n",
        "X_test, y_test = to_sequences(SEQUENCE_SIZE, X_test, y_test)\n",
        "\n",
        "print(\"Shape of x_train: {}\".format(X_train.shape))\n",
        "print(\"Shape of x_test: {}\".format(X_test.shape))\n",
        "print(\"Shape of y_train: {}\".format(y_train.shape))\n",
        "print(\"Shape of y_test: {}\".format(y_test.shape))\n",
        "\n",
        "X_train = X_train.reshape((X_train.shape[0], SEQUENCE_SIZE, X_train.shape[3] * X_train.shape[4]))\n",
        "X_test = X_test.reshape((X_test.shape[0], SEQUENCE_SIZE, X_test.shape[3] * X_test.shape[4]))\n",
        "\n",
        "print(\"Shape of x_train: {}\".format(X_train.shape))\n",
        "print(\"Shape of x_test: {}\".format(X_test.shape))\n",
        "print(\"Shape of y_train: {}\".format(y_train.shape))\n",
        "print(\"Shape of y_test: {}\".format(y_test.shape))"
      ]
    },
    {
      "cell_type": "markdown",
      "metadata": {
        "id": "8nd9aZzBbDmg"
      },
      "source": [
        "## **Building Model using bidirectional LSTM followed by Attention layers (Relu & Adam)**"
      ]
    },
    {
      "cell_type": "code",
      "execution_count": 89,
      "metadata": {
        "colab": {
          "base_uri": "https://localhost:8080/"
        },
        "id": "vvcDurCgCmLI",
        "outputId": "6d2dd916-e61f-438a-ebfe-bd08591fc22e"
      },
      "outputs": [
        {
          "name": "stdout",
          "output_type": "stream",
          "text": [
            "Epoch 1/50\n",
            "5/5 [==============================] - 8s 377ms/step - loss: 0.0190 - val_loss: 0.0054\n",
            "Epoch 2/50\n",
            "5/5 [==============================] - ETA: 0s - loss: 0.0049"
          ]
        },
        {
          "name": "stderr",
          "output_type": "stream",
          "text": [
            "/usr/local/lib/python3.10/dist-packages/keras/src/engine/training.py:3000: UserWarning: You are saving your model as an HDF5 file via `model.save()`. This file format is considered legacy. We recommend using instead the native Keras format, e.g. `model.save('my_model.keras')`.\n",
            "  saving_api.save_model(\n"
          ]
        },
        {
          "name": "stdout",
          "output_type": "stream",
          "text": [
            "\b\b\b\b\b\b\b\b\b\b\b\b\b\b\b\b\b\b\b\b\b\b\b\b\b\b\b\b\b\b\b\b\b\b\b\b\b\b\b\b\b\b\b\b\b\b\b\b\b\b\b\b\b\b\b\b\b\b\b\b\b\r5/5 [==============================] - 0s 64ms/step - loss: 0.0049 - val_loss: 0.0052\n",
            "Epoch 3/50\n",
            "5/5 [==============================] - 0s 45ms/step - loss: 0.0029 - val_loss: 0.0028\n",
            "Epoch 4/50\n",
            "5/5 [==============================] - 0s 85ms/step - loss: 0.0024 - val_loss: 0.0027\n",
            "Epoch 5/50\n",
            "5/5 [==============================] - 0s 43ms/step - loss: 0.0018 - val_loss: 0.0036\n",
            "Epoch 6/50\n",
            "5/5 [==============================] - 0s 43ms/step - loss: 0.0017 - val_loss: 0.0026\n",
            "Epoch 7/50\n",
            "5/5 [==============================] - 0s 50ms/step - loss: 0.0016 - val_loss: 0.0025\n",
            "Epoch 8/50\n",
            "5/5 [==============================] - 0s 47ms/step - loss: 0.0015 - val_loss: 0.0025\n",
            "Epoch 8: early stopping\n"
          ]
        },
        {
          "data": {
            "text/plain": [
              "<keras.src.callbacks.History at 0x78f49c1d8610>"
            ]
          },
          "execution_count": 89,
          "metadata": {},
          "output_type": "execute_result"
        }
      ],
      "source": [
        "from tensorflow.keras.models import Sequential\n",
        "from tensorflow.keras.layers import Dense, Activation, LSTM\n",
        "from tensorflow.keras.callbacks import EarlyStopping, ModelCheckpoint, TensorBoard\n",
        "from tensorflow.keras.optimizers import Adam\n",
        "from tensorflow.keras import optimizers\n",
        "from sklearn import metrics\n",
        "import datetime\n",
        "import math\n",
        "\n",
        "input = tf.keras.layers.Input(shape=(SEQUENCE_SIZE, 84))\n",
        "x = tf.keras.layers.Bidirectional(tf.keras.layers.LSTM(128, return_sequences=True))(input)\n",
        "x = tf.keras.layers.TimeDistributed(tf.keras.layers.Dense(64, activation = 'relu'))(x)\n",
        "x = tf.keras.layers.Attention()([x, x, x])\n",
        "x = tf.keras.layers.Flatten()(x)\n",
        "x = tf.keras.layers.Dense(64, activation = 'relu')(x)\n",
        "output = tf.keras.layers.Dense(1, activation='linear')(x)\n",
        "model = tf.keras.Model(inputs=input, outputs=output)\n",
        "model.compile(optimizer = 'adam',\n",
        "              loss='mean_squared_error')\n",
        "\n",
        "monitor = EarlyStopping(monitor = 'val_loss', min_delta = 1e-3, patience = 5, verbose = 1, mode = 'auto')\n",
        "checkpointer = ModelCheckpoint(filepath = \"best_weights_NN.hdf5\", verbose = 0, save_best_only = True)\n",
        "\n",
        "\n",
        "model.fit(X_train, y_train, epochs=50, batch_size=32, validation_data=(X_test, y_test), callbacks = [monitor, checkpointer])\n"
      ]
    },
    {
      "cell_type": "markdown",
      "metadata": {
        "id": "vfkqYfkcbZ7p"
      },
      "source": [
        "## **RMSE Score (Relu & Adam)**"
      ]
    },
    {
      "cell_type": "code",
      "execution_count": 90,
      "metadata": {
        "colab": {
          "base_uri": "https://localhost:8080/",
          "height": 924
        },
        "id": "P1FFrfQzCmLI",
        "outputId": "5f5542ee-22d3-453f-8449-08e6285aaa6e"
      },
      "outputs": [
        {
          "name": "stdout",
          "output_type": "stream",
          "text": [
            "5/5 [==============================] - 1s 4ms/step\n",
            "Score_train (RMSE): 0.037960549662100496\n",
            "2/2 [==============================] - 0s 6ms/step\n",
            "Score_test (RMSE): 0.049970196663690375\n"
          ]
        },
        {
          "data": {
            "image/png": "[encoded data removed]",
            "text/plain": [
              "<Figure size 640x480 with 1 Axes>"
            ]
          },
          "metadata": {},
          "output_type": "display_data"
        },
        {
          "data": {
            "image/png": "[encoded data removed]",
            "text/plain": [
              "<Figure size 640x480 with 1 Axes>"
            ]
          },
          "metadata": {},
          "output_type": "display_data"
        }
      ],
      "source": [
        "pred_train = model.predict(X_train)\n",
        "score_train = np.sqrt(metrics.mean_squared_error(pred_train, y_train))\n",
        "print(\"Score_train (RMSE): {}\".format(score_train))\n",
        "\n",
        "pred_test = model.predict(X_test)\n",
        "score_test = np.sqrt(metrics.mean_squared_error(pred_test, y_test))\n",
        "print(\"Score_test (RMSE): {}\".format(score_test))\n",
        "\n",
        "# Chart_regression\n",
        "chart_regression(pred_train.flatten(), y_train, sort = True)\n",
        "chart_regression(pred_test.flatten(), y_test, sort = True)\n"
      ]
    },
    {
      "cell_type": "markdown",
      "metadata": {
        "id": "4nZkS3OIgYTF"
      },
      "source": [
        "## **Building Model using bidirectional LSTM followed by Attention layers (Relu & SGD)**"
      ]
    },
    {
      "cell_type": "code",
      "execution_count": 104,
      "metadata": {
        "colab": {
          "base_uri": "https://localhost:8080/"
        },
        "id": "4vhHj_S3gYTS",
        "outputId": "b46e7f3f-01b8-4486-e8c2-fd526593d1d6"
      },
      "outputs": [
        {
          "name": "stdout",
          "output_type": "stream",
          "text": [
            "Epoch 1/50\n",
            "5/5 [==============================] - 4s 190ms/step - loss: 0.0079 - val_loss: 0.0036\n",
            "Epoch 2/50\n",
            "5/5 [==============================] - 0s 19ms/step - loss: 0.0043 - val_loss: 0.0035\n",
            "Epoch 3/50\n",
            "1/5 [=====>........................] - ETA: 0s - loss: 0.0034"
          ]
        },
        {
          "name": "stderr",
          "output_type": "stream",
          "text": [
            "/usr/local/lib/python3.10/dist-packages/keras/src/engine/training.py:3000: UserWarning: You are saving your model as an HDF5 file via `model.save()`. This file format is considered legacy. We recommend using instead the native Keras format, e.g. `model.save('my_model.keras')`.\n",
            "  saving_api.save_model(\n"
          ]
        },
        {
          "name": "stdout",
          "output_type": "stream",
          "text": [
            "\b\b\b\b\b\b\b\b\b\b\b\b\b\b\b\b\b\b\b\b\b\b\b\b\b\b\b\b\b\b\b\b\b\b\b\b\b\b\b\b\b\b\b\b\b\b\b\b\b\b\b\b\b\b\b\b\b\b\b\b\b\r5/5 [==============================] - 0s 20ms/step - loss: 0.0041 - val_loss: 0.0034\n",
            "Epoch 4/50\n",
            "5/5 [==============================] - 0s 18ms/step - loss: 0.0040 - val_loss: 0.0037\n",
            "Epoch 5/50\n",
            "5/5 [==============================] - 0s 34ms/step - loss: 0.0038 - val_loss: 0.0032\n",
            "Epoch 6/50\n",
            "5/5 [==============================] - 0s 27ms/step - loss: 0.0035 - val_loss: 0.0029\n",
            "Epoch 6: early stopping\n"
          ]
        },
        {
          "data": {
            "text/plain": [
              "<keras.src.callbacks.History at 0x78f42c47edd0>"
            ]
          },
          "execution_count": 104,
          "metadata": {},
          "output_type": "execute_result"
        }
      ],
      "source": [
        "input = tf.keras.layers.Input(shape=(SEQUENCE_SIZE, 84))\n",
        "x = tf.keras.layers.Bidirectional(tf.keras.layers.LSTM(128, return_sequences=True))(input)\n",
        "x = tf.keras.layers.TimeDistributed(tf.keras.layers.Dense(64, activation = 'relu'))(x)\n",
        "x = tf.keras.layers.Attention()([x, x, x])\n",
        "x = tf.keras.layers.Flatten()(x)\n",
        "x = tf.keras.layers.Dense(64, activation = 'relu')(x)\n",
        "output = tf.keras.layers.Dense(1, activation='linear')(x)\n",
        "model = tf.keras.Model(inputs=input, outputs=output)\n",
        "model.compile(optimizer = 'sgd',\n",
        "              loss='mean_squared_error')\n",
        "\n",
        "monitor = EarlyStopping(monitor = 'val_loss', min_delta = 1e-3, patience = 5, verbose = 1, mode = 'auto')\n",
        "checkpointer = ModelCheckpoint(filepath = \"best_weights_NN.hdf5\", verbose = 0, save_best_only = True)\n",
        "\n",
        "\n",
        "model.fit(X_train, y_train, epochs=50, batch_size=32, validation_data=(X_test, y_test), callbacks = [monitor, checkpointer])\n"
      ]
    },
    {
      "cell_type": "markdown",
      "metadata": {
        "id": "G6ZY6z5CgYTS"
      },
      "source": [
        "## **RMSE Score (Relu & SGD)**"
      ]
    },
    {
      "cell_type": "code",
      "execution_count": 105,
      "metadata": {
        "colab": {
          "base_uri": "https://localhost:8080/"
        },
        "id": "QkF53FmRgYTS",
        "outputId": "36afb6f1-663c-4c4d-de95-b8c1e701ecfe"
      },
      "outputs": [
        {
          "name": "stdout",
          "output_type": "stream",
          "text": [
            "5/5 [==============================] - 1s 4ms/step\n",
            "Score_train (RMSE): 0.05797828713987719\n",
            "2/2 [==============================] - 0s 6ms/step\n",
            "Score_test (RMSE): 0.053749158327657615\n"
          ]
        }
      ],
      "source": [
        "pred_train = model.predict(X_train)\n",
        "score_train = np.sqrt(metrics.mean_squared_error(pred_train, y_train))\n",
        "print(\"Score_train (RMSE): {}\".format(score_train))\n",
        "\n",
        "pred_test = model.predict(X_test)\n",
        "score_test = np.sqrt(metrics.mean_squared_error(pred_test, y_test))\n",
        "print(\"Score_test (RMSE): {}\".format(score_test))\n",
        "\n"
      ]
    },
    {
      "cell_type": "markdown",
      "metadata": {
        "id": "K0jgjicKgqlO"
      },
      "source": [
        "## **Building Model using bidirectional LSTM followed by Attention layers (tanh & Adam)**"
      ]
    },
    {
      "cell_type": "code",
      "execution_count": 93,
      "metadata": {
        "colab": {
          "base_uri": "https://localhost:8080/"
        },
        "id": "E04034mwgqld",
        "outputId": "f20db049-f564-4019-b3f4-39053df8ae7d"
      },
      "outputs": [
        {
          "name": "stdout",
          "output_type": "stream",
          "text": [
            "Epoch 1/50\n",
            "5/5 [==============================] - 11s 204ms/step - loss: 0.1214 - val_loss: 0.0438\n",
            "Epoch 2/50\n",
            "5/5 [==============================] - 0s 22ms/step - loss: 0.0528 - val_loss: 0.0352\n",
            "Epoch 3/50\n",
            "1/5 [=====>........................] - ETA: 0s - loss: 0.0261"
          ]
        },
        {
          "name": "stderr",
          "output_type": "stream",
          "text": [
            "/usr/local/lib/python3.10/dist-packages/keras/src/engine/training.py:3000: UserWarning: You are saving your model as an HDF5 file via `model.save()`. This file format is considered legacy. We recommend using instead the native Keras format, e.g. `model.save('my_model.keras')`.\n",
            "  saving_api.save_model(\n"
          ]
        },
        {
          "name": "stdout",
          "output_type": "stream",
          "text": [
            "\b\b\b\b\b\b\b\b\b\b\b\b\b\b\b\b\b\b\b\b\b\b\b\b\b\b\b\b\b\b\b\b\b\b\b\b\b\b\b\b\b\b\b\b\b\b\b\b\b\b\b\b\b\b\b\b\b\b\b\b\b\r5/5 [==============================] - 0s 25ms/step - loss: 0.0196 - val_loss: 0.0205\n",
            "Epoch 4/50\n",
            "5/5 [==============================] - 0s 22ms/step - loss: 0.0138 - val_loss: 0.0142\n",
            "Epoch 5/50\n",
            "5/5 [==============================] - 0s 23ms/step - loss: 0.0109 - val_loss: 0.0089\n",
            "Epoch 6/50\n",
            "5/5 [==============================] - 0s 22ms/step - loss: 0.0126 - val_loss: 0.0064\n",
            "Epoch 7/50\n",
            "5/5 [==============================] - 0s 21ms/step - loss: 0.0069 - val_loss: 0.0062\n",
            "Epoch 8/50\n",
            "5/5 [==============================] - 0s 22ms/step - loss: 0.0029 - val_loss: 0.0055\n",
            "Epoch 9/50\n",
            "5/5 [==============================] - 0s 21ms/step - loss: 0.0027 - val_loss: 0.0055\n",
            "Epoch 10/50\n",
            "5/5 [==============================] - 0s 23ms/step - loss: 0.0025 - val_loss: 0.0052\n",
            "Epoch 11/50\n",
            "5/5 [==============================] - 0s 25ms/step - loss: 0.0017 - val_loss: 0.0051\n",
            "Epoch 12/50\n",
            "5/5 [==============================] - 0s 22ms/step - loss: 0.0015 - val_loss: 0.0051\n",
            "Epoch 13/50\n",
            "5/5 [==============================] - 0s 23ms/step - loss: 0.0016 - val_loss: 0.0050\n",
            "Epoch 14/50\n",
            "5/5 [==============================] - 0s 13ms/step - loss: 0.0013 - val_loss: 0.0051\n",
            "Epoch 15/50\n",
            "5/5 [==============================] - 0s 27ms/step - loss: 0.0013 - val_loss: 0.0048\n",
            "Epoch 15: early stopping\n"
          ]
        },
        {
          "data": {
            "text/plain": [
              "<keras.src.callbacks.History at 0x78f469e3ad10>"
            ]
          },
          "execution_count": 93,
          "metadata": {},
          "output_type": "execute_result"
        }
      ],
      "source": [
        "input = tf.keras.layers.Input(shape=(SEQUENCE_SIZE, 84))\n",
        "x = tf.keras.layers.Bidirectional(tf.keras.layers.LSTM(128, return_sequences=True))(input)\n",
        "x = tf.keras.layers.TimeDistributed(tf.keras.layers.Dense(64, activation = 'tanh'))(x)\n",
        "x = tf.keras.layers.Attention()([x, x, x])\n",
        "x = tf.keras.layers.Flatten()(x)\n",
        "x = tf.keras.layers.Dense(64, activation = 'tanh')(x)\n",
        "output = tf.keras.layers.Dense(1, activation='linear')(x)\n",
        "model = tf.keras.Model(inputs=input, outputs=output)\n",
        "model.compile(optimizer = 'adam',\n",
        "              loss='mean_squared_error')\n",
        "\n",
        "monitor = EarlyStopping(monitor = 'val_loss', min_delta = 1e-3, patience = 5, verbose = 1, mode = 'auto')\n",
        "checkpointer = ModelCheckpoint(filepath = \"best_weights_NN.hdf5\", verbose = 0, save_best_only = True)\n",
        "\n",
        "\n",
        "model.fit(X_train, y_train, epochs=50, batch_size=32, validation_data=(X_test, y_test), callbacks = [monitor, checkpointer])\n"
      ]
    },
    {
      "cell_type": "markdown",
      "metadata": {
        "id": "T1-lAJAkgqld"
      },
      "source": [
        "## **RMSE Score (tanh & Adam)**"
      ]
    },
    {
      "cell_type": "code",
      "execution_count": 94,
      "metadata": {
        "colab": {
          "base_uri": "https://localhost:8080/"
        },
        "id": "fDbuPWNtgqld",
        "outputId": "85546688-a73c-4137-bc8e-5646bea7f64e"
      },
      "outputs": [
        {
          "name": "stdout",
          "output_type": "stream",
          "text": [
            "5/5 [==============================] - 1s 4ms/step\n",
            "Score_train (RMSE): 0.03396082638206585\n",
            "2/2 [==============================] - 0s 5ms/step\n",
            "Score_test (RMSE): 0.0694819941621517\n"
          ]
        }
      ],
      "source": [
        "pred_train = model.predict(X_train)\n",
        "score_train = np.sqrt(metrics.mean_squared_error(pred_train, y_train))\n",
        "print(\"Score_train (RMSE): {}\".format(score_train))\n",
        "\n",
        "pred_test = model.predict(X_test)\n",
        "score_test = np.sqrt(metrics.mean_squared_error(pred_test, y_test))\n",
        "print(\"Score_test (RMSE): {}\".format(score_test))\n"
      ]
    },
    {
      "cell_type": "markdown",
      "metadata": {
        "id": "galPkRHYjWVl"
      },
      "source": [
        "## **Building Model using bidirectional LSTM followed by Attention layers (tanh & SGD)**"
      ]
    },
    {
      "cell_type": "code",
      "execution_count": 97,
      "metadata": {
        "colab": {
          "base_uri": "https://localhost:8080/"
        },
        "id": "n7-LFYK9jWVx",
        "outputId": "e991c788-688e-4382-e960-a2e6340f1ead"
      },
      "outputs": [
        {
          "name": "stdout",
          "output_type": "stream",
          "text": [
            "Epoch 1/50\n",
            "5/5 [==============================] - 11s 1s/step - loss: 0.0185 - val_loss: 0.0274\n",
            "Epoch 2/50\n",
            "1/5 [=====>........................] - ETA: 0s - loss: 0.0091"
          ]
        },
        {
          "name": "stderr",
          "output_type": "stream",
          "text": [
            "/usr/local/lib/python3.10/dist-packages/keras/src/engine/training.py:3000: UserWarning: You are saving your model as an HDF5 file via `model.save()`. This file format is considered legacy. We recommend using instead the native Keras format, e.g. `model.save('my_model.keras')`.\n",
            "  saving_api.save_model(\n"
          ]
        },
        {
          "name": "stdout",
          "output_type": "stream",
          "text": [
            "5/5 [==============================] - 0s 69ms/step - loss: 0.0089 - val_loss: 0.0065\n",
            "Epoch 3/50\n",
            "5/5 [==============================] - 0s 59ms/step - loss: 0.0095 - val_loss: 0.0167\n",
            "Epoch 4/50\n",
            "5/5 [==============================] - 0s 28ms/step - loss: 0.0060 - val_loss: 0.0143\n",
            "Epoch 5/50\n",
            "5/5 [==============================] - 0s 28ms/step - loss: 0.0054 - val_loss: 0.0123\n",
            "Epoch 6/50\n",
            "5/5 [==============================] - 0s 22ms/step - loss: 0.0063 - val_loss: 0.0204\n",
            "Epoch 7/50\n",
            "5/5 [==============================] - 0s 37ms/step - loss: 0.0049 - val_loss: 0.0130\n",
            "Epoch 7: early stopping\n"
          ]
        },
        {
          "data": {
            "text/plain": [
              "<keras.src.callbacks.History at 0x78f44dd6df90>"
            ]
          },
          "execution_count": 97,
          "metadata": {},
          "output_type": "execute_result"
        }
      ],
      "source": [
        "input = tf.keras.layers.Input(shape=(SEQUENCE_SIZE, 84))\n",
        "x = tf.keras.layers.Bidirectional(tf.keras.layers.LSTM(128, return_sequences=True))(input)\n",
        "x = tf.keras.layers.TimeDistributed(tf.keras.layers.Dense(64, activation = 'tanh'))(x)\n",
        "x = tf.keras.layers.Attention()([x, x, x])\n",
        "x = tf.keras.layers.Flatten()(x)\n",
        "x = tf.keras.layers.Dense(64, activation = 'tanh')(x)\n",
        "output = tf.keras.layers.Dense(1, activation='linear')(x)\n",
        "model = tf.keras.Model(inputs=input, outputs=output)\n",
        "model.compile(optimizer = 'sgd',\n",
        "              loss='mean_squared_error')\n",
        "\n",
        "monitor = EarlyStopping(monitor = 'val_loss', min_delta = 1e-3, patience = 5, verbose = 1, mode = 'auto')\n",
        "checkpointer = ModelCheckpoint(filepath = \"best_weights_NN.hdf5\", verbose = 0, save_best_only = True)\n",
        "\n",
        "\n",
        "model.fit(X_train, y_train, epochs=50, batch_size=32, validation_data=(X_test, y_test), callbacks = [monitor, checkpointer])\n"
      ]
    },
    {
      "cell_type": "markdown",
      "metadata": {
        "id": "x9T7p5wejWVy"
      },
      "source": [
        "## **RMSE Score (tanh & SGD)**"
      ]
    },
    {
      "cell_type": "code",
      "execution_count": 98,
      "metadata": {
        "colab": {
          "base_uri": "https://localhost:8080/"
        },
        "id": "KCstwtg0jWVy",
        "outputId": "537bf063-1cc6-4b2e-986e-58457dc58fe0"
      },
      "outputs": [
        {
          "name": "stdout",
          "output_type": "stream",
          "text": [
            "5/5 [==============================] - 1s 3ms/step\n",
            "Score_train (RMSE): 0.06543914581159001\n",
            "2/2 [==============================] - 0s 5ms/step\n",
            "Score_test (RMSE): 0.1139911884122589\n"
          ]
        }
      ],
      "source": [
        "pred_train = model.predict(X_train)\n",
        "score_train = np.sqrt(metrics.mean_squared_error(pred_train, y_train))\n",
        "print(\"Score_train (RMSE): {}\".format(score_train))\n",
        "\n",
        "pred_test = model.predict(X_test)\n",
        "score_test = np.sqrt(metrics.mean_squared_error(pred_test, y_test))\n",
        "print(\"Score_test (RMSE): {}\".format(score_test))\n",
        "\n"
      ]
    }
  ],
  "metadata": {
    "accelerator": "GPU",
    "colab": {
      "gpuType": "T4",
      "provenance": []
    },
    "kernelspec": {
      "display_name": "Python 3",
      "name": "python3"
    },
    "language_info": {
      "codemirror_mode": {
        "name": "ipython",
        "version": 3
      },
      "file_extension": ".py",
      "mimetype": "text/x-python",
      "name": "python",
      "nbconvert_exporter": "python",
      "pygments_lexer": "ipython3",
      "version": "3.11.5"
    },
    "orig_nbformat": 4
  },
  "nbformat": 4,
  "nbformat_minor": 0
}
